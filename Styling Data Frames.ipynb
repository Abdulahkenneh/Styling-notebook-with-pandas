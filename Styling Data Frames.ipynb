{
 "cells": [
  {
   "cell_type": "code",
   "execution_count": 28,
   "id": "8f89bdbc",
   "metadata": {},
   "outputs": [],
   "source": [
    "import pandas as pd\n",
    "import numpy as np"
   ]
  },
  {
   "cell_type": "code",
   "execution_count": 43,
   "id": "c1bbe7ea",
   "metadata": {},
   "outputs": [
    {
     "data": {
      "text/html": [
       "<style type=\"text/css\">\n",
       "</style>\n",
       "<table id=\"T_8a5d1\">\n",
       "  <thead>\n",
       "    <tr>\n",
       "      <th class=\"blank level0\" >&nbsp;</th>\n",
       "      <th id=\"T_8a5d1_level0_col0\" class=\"col_heading level0 col0\" >A</th>\n",
       "      <th id=\"T_8a5d1_level0_col1\" class=\"col_heading level0 col1\" >B</th>\n",
       "      <th id=\"T_8a5d1_level0_col2\" class=\"col_heading level0 col2\" >C</th>\n",
       "      <th id=\"T_8a5d1_level0_col3\" class=\"col_heading level0 col3\" >D</th>\n",
       "    </tr>\n",
       "  </thead>\n",
       "  <tbody>\n",
       "    <tr>\n",
       "      <th id=\"T_8a5d1_level0_row0\" class=\"row_heading level0 row0\" >0</th>\n",
       "      <td id=\"T_8a5d1_row0_col0\" class=\"data row0 col0\" >0.00</td>\n",
       "      <td id=\"T_8a5d1_row0_col1\" class=\"data row0 col1\" >12.24</td>\n",
       "      <td id=\"T_8a5d1_row0_col2\" class=\"data row0 col2\" >0.50</td>\n",
       "      <td id=\"T_8a5d1_row0_col3\" class=\"data row0 col3\" >2000.00</td>\n",
       "    </tr>\n",
       "    <tr>\n",
       "      <th id=\"T_8a5d1_level0_row1\" class=\"row_heading level0 row1\" >1</th>\n",
       "      <td id=\"T_8a5d1_row1_col0\" class=\"data row1 col0\" >-5.00</td>\n",
       "      <td id=\"T_8a5d1_row1_col1\" class=\"data row1 col1\" >3.14</td>\n",
       "      <td id=\"T_8a5d1_row1_col2\" class=\"data row1 col2\" >1.20</td>\n",
       "      <td id=\"T_8a5d1_row1_col3\" class=\"data row1 col3\" >nan</td>\n",
       "    </tr>\n",
       "    <tr>\n",
       "      <th id=\"T_8a5d1_level0_row2\" class=\"row_heading level0 row2\" >2</th>\n",
       "      <td id=\"T_8a5d1_row2_col0\" class=\"data row2 col0\" >12.00</td>\n",
       "      <td id=\"T_8a5d1_row2_col1\" class=\"data row2 col1\" >2.71</td>\n",
       "      <td id=\"T_8a5d1_row2_col2\" class=\"data row2 col2\" >0.30</td>\n",
       "      <td id=\"T_8a5d1_row2_col3\" class=\"data row2 col3\" >1000.00</td>\n",
       "    </tr>\n",
       "    <tr>\n",
       "      <th id=\"T_8a5d1_level0_row3\" class=\"row_heading level0 row3\" >3</th>\n",
       "      <td id=\"T_8a5d1_row3_col0\" class=\"data row3 col0\" >-4.00</td>\n",
       "      <td id=\"T_8a5d1_row3_col1\" class=\"data row3 col1\" >-3.14</td>\n",
       "      <td id=\"T_8a5d1_row3_col2\" class=\"data row3 col2\" >1.90</td>\n",
       "      <td id=\"T_8a5d1_row3_col3\" class=\"data row3 col3\" >7000.00</td>\n",
       "    </tr>\n",
       "    <tr>\n",
       "      <th id=\"T_8a5d1_level0_row4\" class=\"row_heading level0 row4\" >4</th>\n",
       "      <td id=\"T_8a5d1_row4_col0\" class=\"data row4 col0\" >3.00</td>\n",
       "      <td id=\"T_8a5d1_row4_col1\" class=\"data row4 col1\" >nan</td>\n",
       "      <td id=\"T_8a5d1_row4_col2\" class=\"data row4 col2\" >2.20</td>\n",
       "      <td id=\"T_8a5d1_row4_col3\" class=\"data row4 col3\" >5000.00</td>\n",
       "    </tr>\n",
       "  </tbody>\n",
       "</table>\n"
      ],
      "text/plain": [
       "<pandas.io.formats.style.Styler at 0x1e0ae54ef90>"
      ]
     },
     "execution_count": 43,
     "metadata": {},
     "output_type": "execute_result"
    }
   ],
   "source": [
    "df = pd.DataFrame({\n",
    "    \"A\": [0, -5, 12, -4, 3],\n",
    "    \"B\": [12.24, 3.14, 2.71, -3.14, np.nan],\n",
    "    \"C\": [0.5, 1.2, 0.3, 1.9, 2.2],\n",
    "    \"D\": [2000, np.nan, 1000, 7000, 5000]\n",
    "})\n",
    "\n",
    "df.style.format('{:.2f}')\n"
   ]
  },
  {
   "cell_type": "code",
   "execution_count": 44,
   "id": "47235f51",
   "metadata": {},
   "outputs": [
    {
     "data": {
      "text/html": [
       "<style type=\"text/css\">\n",
       "#T_b73ae_row0_col1, #T_b73ae_row2_col0, #T_b73ae_row3_col3, #T_b73ae_row4_col2 {\n",
       "  background-color: red;\n",
       "}\n",
       "</style>\n",
       "<table id=\"T_b73ae\">\n",
       "  <thead>\n",
       "    <tr>\n",
       "      <th class=\"blank level0\" >&nbsp;</th>\n",
       "      <th id=\"T_b73ae_level0_col0\" class=\"col_heading level0 col0\" >A</th>\n",
       "      <th id=\"T_b73ae_level0_col1\" class=\"col_heading level0 col1\" >B</th>\n",
       "      <th id=\"T_b73ae_level0_col2\" class=\"col_heading level0 col2\" >C</th>\n",
       "      <th id=\"T_b73ae_level0_col3\" class=\"col_heading level0 col3\" >D</th>\n",
       "    </tr>\n",
       "  </thead>\n",
       "  <tbody>\n",
       "    <tr>\n",
       "      <th id=\"T_b73ae_level0_row0\" class=\"row_heading level0 row0\" >0</th>\n",
       "      <td id=\"T_b73ae_row0_col0\" class=\"data row0 col0\" >0</td>\n",
       "      <td id=\"T_b73ae_row0_col1\" class=\"data row0 col1\" >12.240000</td>\n",
       "      <td id=\"T_b73ae_row0_col2\" class=\"data row0 col2\" >0.500000</td>\n",
       "      <td id=\"T_b73ae_row0_col3\" class=\"data row0 col3\" >2000.000000</td>\n",
       "    </tr>\n",
       "    <tr>\n",
       "      <th id=\"T_b73ae_level0_row1\" class=\"row_heading level0 row1\" >1</th>\n",
       "      <td id=\"T_b73ae_row1_col0\" class=\"data row1 col0\" >-5</td>\n",
       "      <td id=\"T_b73ae_row1_col1\" class=\"data row1 col1\" >3.140000</td>\n",
       "      <td id=\"T_b73ae_row1_col2\" class=\"data row1 col2\" >1.200000</td>\n",
       "      <td id=\"T_b73ae_row1_col3\" class=\"data row1 col3\" >nan</td>\n",
       "    </tr>\n",
       "    <tr>\n",
       "      <th id=\"T_b73ae_level0_row2\" class=\"row_heading level0 row2\" >2</th>\n",
       "      <td id=\"T_b73ae_row2_col0\" class=\"data row2 col0\" >12</td>\n",
       "      <td id=\"T_b73ae_row2_col1\" class=\"data row2 col1\" >2.710000</td>\n",
       "      <td id=\"T_b73ae_row2_col2\" class=\"data row2 col2\" >0.300000</td>\n",
       "      <td id=\"T_b73ae_row2_col3\" class=\"data row2 col3\" >1000.000000</td>\n",
       "    </tr>\n",
       "    <tr>\n",
       "      <th id=\"T_b73ae_level0_row3\" class=\"row_heading level0 row3\" >3</th>\n",
       "      <td id=\"T_b73ae_row3_col0\" class=\"data row3 col0\" >-4</td>\n",
       "      <td id=\"T_b73ae_row3_col1\" class=\"data row3 col1\" >-3.140000</td>\n",
       "      <td id=\"T_b73ae_row3_col2\" class=\"data row3 col2\" >1.900000</td>\n",
       "      <td id=\"T_b73ae_row3_col3\" class=\"data row3 col3\" >7000.000000</td>\n",
       "    </tr>\n",
       "    <tr>\n",
       "      <th id=\"T_b73ae_level0_row4\" class=\"row_heading level0 row4\" >4</th>\n",
       "      <td id=\"T_b73ae_row4_col0\" class=\"data row4 col0\" >3</td>\n",
       "      <td id=\"T_b73ae_row4_col1\" class=\"data row4 col1\" >nan</td>\n",
       "      <td id=\"T_b73ae_row4_col2\" class=\"data row4 col2\" >2.200000</td>\n",
       "      <td id=\"T_b73ae_row4_col3\" class=\"data row4 col3\" >5000.000000</td>\n",
       "    </tr>\n",
       "  </tbody>\n",
       "</table>\n"
      ],
      "text/plain": [
       "<pandas.io.formats.style.Styler at 0x1e0ae5f7bd0>"
      ]
     },
     "execution_count": 44,
     "metadata": {},
     "output_type": "execute_result"
    }
   ],
   "source": [
    "df.style.highlight_max(color=\"red\")\n"
   ]
  },
  {
   "cell_type": "markdown",
   "id": "ffe0033e",
   "metadata": {},
   "source": [
    "df.style.highlight_max(color=\"red\")"
   ]
  },
  {
   "cell_type": "code",
   "execution_count": 46,
   "id": "8783236d",
   "metadata": {},
   "outputs": [
    {
     "data": {
      "text/html": [
       "<div>\n",
       "<style scoped>\n",
       "    .dataframe tbody tr th:only-of-type {\n",
       "        vertical-align: middle;\n",
       "    }\n",
       "\n",
       "    .dataframe tbody tr th {\n",
       "        vertical-align: top;\n",
       "    }\n",
       "\n",
       "    .dataframe thead th {\n",
       "        text-align: right;\n",
       "    }\n",
       "</style>\n",
       "<table border=\"1\" class=\"dataframe\">\n",
       "  <thead>\n",
       "    <tr style=\"text-align: right;\">\n",
       "      <th>day</th>\n",
       "      <th>smoker</th>\n",
       "      <th>Thur</th>\n",
       "      <th>Fri</th>\n",
       "      <th>Sat</th>\n",
       "      <th>Sun</th>\n",
       "    </tr>\n",
       "  </thead>\n",
       "  <tbody>\n",
       "    <tr>\n",
       "      <th>0</th>\n",
       "      <td>Yes</td>\n",
       "      <td>326.24</td>\n",
       "      <td>252.20</td>\n",
       "      <td>893.62</td>\n",
       "      <td>458.28</td>\n",
       "    </tr>\n",
       "    <tr>\n",
       "      <th>1</th>\n",
       "      <td>No</td>\n",
       "      <td>770.09</td>\n",
       "      <td>73.68</td>\n",
       "      <td>884.78</td>\n",
       "      <td>1168.88</td>\n",
       "    </tr>\n",
       "  </tbody>\n",
       "</table>\n",
       "</div>"
      ],
      "text/plain": [
       "day smoker    Thur     Fri     Sat      Sun\n",
       "0      Yes  326.24  252.20  893.62   458.28\n",
       "1       No  770.09   73.68  884.78  1168.88"
      ]
     },
     "execution_count": 46,
     "metadata": {},
     "output_type": "execute_result"
    }
   ],
   "source": [
    "\n",
    "import seaborn as sns\n",
    "# create the tips dataframe \n",
    "data = sns.load_dataset('tips')\n",
    "data_pivot = pd.pivot_table(data,\n",
    " index='smoker',\n",
    " columns='day',\n",
    " values='total_bill',\n",
    " aggfunc='sum').reset_index()\n",
    "data_pivot"
   ]
  },
  {
   "cell_type": "code",
   "execution_count": 69,
   "id": "8cdb33ad",
   "metadata": {},
   "outputs": [
    {
     "data": {
      "text/html": [
       "<style type=\"text/css\">\n",
       "#T_6c2bf th.col_heading {\n",
       "  background-color: blue;\n",
       "  color: white;\n",
       "}\n",
       "#T_6c2bf .index_name {\n",
       "  background-color: blue;\n",
       "  color: blue;\n",
       "}\n",
       "#T_6c2bf_row0_col0, #T_6c2bf_row0_col1, #T_6c2bf_row0_col2, #T_6c2bf_row0_col3, #T_6c2bf_row1_col0, #T_6c2bf_row1_col1, #T_6c2bf_row1_col2, #T_6c2bf_row1_col3, #T_6c2bf_row2_col0, #T_6c2bf_row2_col1, #T_6c2bf_row2_col2, #T_6c2bf_row2_col3, #T_6c2bf_row3_col0, #T_6c2bf_row3_col1, #T_6c2bf_row3_col2, #T_6c2bf_row3_col3, #T_6c2bf_row4_col0, #T_6c2bf_row4_col1, #T_6c2bf_row4_col2, #T_6c2bf_row4_col3 {\n",
       "  background-color: #ECE3FF;\n",
       "  color: black;\n",
       "}\n",
       "</style>\n",
       "<table id=\"T_6c2bf\">\n",
       "  <thead>\n",
       "    <tr>\n",
       "      <th class=\"blank level0\" >&nbsp;</th>\n",
       "      <th id=\"T_6c2bf_level0_col0\" class=\"col_heading level0 col0\" >A</th>\n",
       "      <th id=\"T_6c2bf_level0_col1\" class=\"col_heading level0 col1\" >B</th>\n",
       "      <th id=\"T_6c2bf_level0_col2\" class=\"col_heading level0 col2\" >C</th>\n",
       "      <th id=\"T_6c2bf_level0_col3\" class=\"col_heading level0 col3\" >D</th>\n",
       "    </tr>\n",
       "  </thead>\n",
       "  <tbody>\n",
       "    <tr>\n",
       "      <th id=\"T_6c2bf_level0_row0\" class=\"row_heading level0 row0\" >0</th>\n",
       "      <td id=\"T_6c2bf_row0_col0\" class=\"data row0 col0\" >0</td>\n",
       "      <td id=\"T_6c2bf_row0_col1\" class=\"data row0 col1\" >12.240000</td>\n",
       "      <td id=\"T_6c2bf_row0_col2\" class=\"data row0 col2\" >0.500000</td>\n",
       "      <td id=\"T_6c2bf_row0_col3\" class=\"data row0 col3\" >2000.000000</td>\n",
       "    </tr>\n",
       "    <tr>\n",
       "      <th id=\"T_6c2bf_level0_row1\" class=\"row_heading level0 row1\" >1</th>\n",
       "      <td id=\"T_6c2bf_row1_col0\" class=\"data row1 col0\" >-5</td>\n",
       "      <td id=\"T_6c2bf_row1_col1\" class=\"data row1 col1\" >3.140000</td>\n",
       "      <td id=\"T_6c2bf_row1_col2\" class=\"data row1 col2\" >1.200000</td>\n",
       "      <td id=\"T_6c2bf_row1_col3\" class=\"data row1 col3\" >nan</td>\n",
       "    </tr>\n",
       "    <tr>\n",
       "      <th id=\"T_6c2bf_level0_row2\" class=\"row_heading level0 row2\" >2</th>\n",
       "      <td id=\"T_6c2bf_row2_col0\" class=\"data row2 col0\" >12</td>\n",
       "      <td id=\"T_6c2bf_row2_col1\" class=\"data row2 col1\" >2.710000</td>\n",
       "      <td id=\"T_6c2bf_row2_col2\" class=\"data row2 col2\" >0.300000</td>\n",
       "      <td id=\"T_6c2bf_row2_col3\" class=\"data row2 col3\" >1000.000000</td>\n",
       "    </tr>\n",
       "    <tr>\n",
       "      <th id=\"T_6c2bf_level0_row3\" class=\"row_heading level0 row3\" >3</th>\n",
       "      <td id=\"T_6c2bf_row3_col0\" class=\"data row3 col0\" >-4</td>\n",
       "      <td id=\"T_6c2bf_row3_col1\" class=\"data row3 col1\" >-3.140000</td>\n",
       "      <td id=\"T_6c2bf_row3_col2\" class=\"data row3 col2\" >1.900000</td>\n",
       "      <td id=\"T_6c2bf_row3_col3\" class=\"data row3 col3\" >7000.000000</td>\n",
       "    </tr>\n",
       "    <tr>\n",
       "      <th id=\"T_6c2bf_level0_row4\" class=\"row_heading level0 row4\" >4</th>\n",
       "      <td id=\"T_6c2bf_row4_col0\" class=\"data row4 col0\" >3</td>\n",
       "      <td id=\"T_6c2bf_row4_col1\" class=\"data row4 col1\" >nan</td>\n",
       "      <td id=\"T_6c2bf_row4_col2\" class=\"data row4 col2\" >2.200000</td>\n",
       "      <td id=\"T_6c2bf_row4_col3\" class=\"data row4 col3\" >5000.000000</td>\n",
       "    </tr>\n",
       "  </tbody>\n",
       "</table>\n"
      ],
      "text/plain": [
       "<pandas.io.formats.style.Styler at 0x1e0ae666b90>"
      ]
     },
     "execution_count": 69,
     "metadata": {},
     "output_type": "execute_result"
    }
   ],
   "source": [
    "pivot_header = {\n",
    "    'selector': 'th.col_heading',\n",
    "    'props': [('background-color', 'blue'),('color','white')]\n",
    "}\n",
    "\n",
    "index_style = {\n",
    "    'selector': '.index_name',\n",
    "    'props': [('background-color', 'blue'), ('color', 'blue')]\n",
    "}\n",
    "\n",
    "pivot_style = (\n",
    "    df\n",
    "    .style\n",
    "    .set_table_styles([pivot_header,index_style])\n",
    "    .set_properties(**{'background-color':'#ECE3FF','color':'black'})\n",
    ")\n",
    "\n",
    "pivot_style"
   ]
  },
  {
   "cell_type": "code",
   "execution_count": 56,
   "id": "253dd702",
   "metadata": {},
   "outputs": [
    {
     "data": {
      "text/html": [
       "<style type=\"text/css\">\n",
       "#T_1fed7 th.col_heading {\n",
       "  background-color: #5E17EB;\n",
       "  color: white;\n",
       "}\n",
       "#T_1fed7 th.index_name {\n",
       "  background-color: #5E17EB;\n",
       "  color: white;\n",
       "}\n",
       "#T_1fed7_row0_col0, #T_1fed7_row0_col1, #T_1fed7_row0_col2, #T_1fed7_row0_col3, #T_1fed7_row1_col0, #T_1fed7_row1_col1, #T_1fed7_row1_col2, #T_1fed7_row1_col3, #T_1fed7_row2_col0, #T_1fed7_row2_col1, #T_1fed7_row2_col2, #T_1fed7_row2_col3, #T_1fed7_row3_col0, #T_1fed7_row3_col1, #T_1fed7_row3_col2, #T_1fed7_row3_col3, #T_1fed7_row4_col0, #T_1fed7_row4_col1, #T_1fed7_row4_col2, #T_1fed7_row4_col3 {\n",
       "  background-color: #ECE3FF;\n",
       "  color: black;\n",
       "}\n",
       "</style>\n",
       "<table id=\"T_1fed7\">\n",
       "  <thead>\n",
       "    <tr>\n",
       "      <th class=\"blank level0\" >&nbsp;</th>\n",
       "      <th id=\"T_1fed7_level0_col0\" class=\"col_heading level0 col0\" >A</th>\n",
       "      <th id=\"T_1fed7_level0_col1\" class=\"col_heading level0 col1\" >B</th>\n",
       "      <th id=\"T_1fed7_level0_col2\" class=\"col_heading level0 col2\" >C</th>\n",
       "      <th id=\"T_1fed7_level0_col3\" class=\"col_heading level0 col3\" >D</th>\n",
       "    </tr>\n",
       "  </thead>\n",
       "  <tbody>\n",
       "    <tr>\n",
       "      <th id=\"T_1fed7_level0_row0\" class=\"row_heading level0 row0\" >0</th>\n",
       "      <td id=\"T_1fed7_row0_col0\" class=\"data row0 col0\" >0</td>\n",
       "      <td id=\"T_1fed7_row0_col1\" class=\"data row0 col1\" >12.240000</td>\n",
       "      <td id=\"T_1fed7_row0_col2\" class=\"data row0 col2\" >0.500000</td>\n",
       "      <td id=\"T_1fed7_row0_col3\" class=\"data row0 col3\" >2000.000000</td>\n",
       "    </tr>\n",
       "    <tr>\n",
       "      <th id=\"T_1fed7_level0_row1\" class=\"row_heading level0 row1\" >1</th>\n",
       "      <td id=\"T_1fed7_row1_col0\" class=\"data row1 col0\" >-5</td>\n",
       "      <td id=\"T_1fed7_row1_col1\" class=\"data row1 col1\" >3.140000</td>\n",
       "      <td id=\"T_1fed7_row1_col2\" class=\"data row1 col2\" >1.200000</td>\n",
       "      <td id=\"T_1fed7_row1_col3\" class=\"data row1 col3\" >nan</td>\n",
       "    </tr>\n",
       "    <tr>\n",
       "      <th id=\"T_1fed7_level0_row2\" class=\"row_heading level0 row2\" >2</th>\n",
       "      <td id=\"T_1fed7_row2_col0\" class=\"data row2 col0\" >12</td>\n",
       "      <td id=\"T_1fed7_row2_col1\" class=\"data row2 col1\" >2.710000</td>\n",
       "      <td id=\"T_1fed7_row2_col2\" class=\"data row2 col2\" >0.300000</td>\n",
       "      <td id=\"T_1fed7_row2_col3\" class=\"data row2 col3\" >1000.000000</td>\n",
       "    </tr>\n",
       "    <tr>\n",
       "      <th id=\"T_1fed7_level0_row3\" class=\"row_heading level0 row3\" >3</th>\n",
       "      <td id=\"T_1fed7_row3_col0\" class=\"data row3 col0\" >-4</td>\n",
       "      <td id=\"T_1fed7_row3_col1\" class=\"data row3 col1\" >-3.140000</td>\n",
       "      <td id=\"T_1fed7_row3_col2\" class=\"data row3 col2\" >1.900000</td>\n",
       "      <td id=\"T_1fed7_row3_col3\" class=\"data row3 col3\" >7000.000000</td>\n",
       "    </tr>\n",
       "    <tr>\n",
       "      <th id=\"T_1fed7_level0_row4\" class=\"row_heading level0 row4\" >4</th>\n",
       "      <td id=\"T_1fed7_row4_col0\" class=\"data row4 col0\" >3</td>\n",
       "      <td id=\"T_1fed7_row4_col1\" class=\"data row4 col1\" >nan</td>\n",
       "      <td id=\"T_1fed7_row4_col2\" class=\"data row4 col2\" >2.200000</td>\n",
       "      <td id=\"T_1fed7_row4_col3\" class=\"data row4 col3\" >5000.000000</td>\n",
       "    </tr>\n",
       "  </tbody>\n",
       "</table>\n"
      ],
      "text/plain": [
       "<pandas.io.formats.style.Styler at 0x1e0ae65d050>"
      ]
     },
     "execution_count": 56,
     "metadata": {},
     "output_type": "execute_result"
    }
   ],
   "source": [
    "headers = {\n",
    " 'selector': 'th.col_heading',\n",
    " 'props': 'background-color: #5E17EB; color: white;'\n",
    "}\n",
    "index_style = {\n",
    " 'selector': 'th.index_name',\n",
    " 'props': 'background-color: #5E17EB; color: white;'\n",
    "}\n",
    "tmp_pivot_style = (\n",
    " df\n",
    " .style\n",
    " .set_table_styles([headers,index_style])\n",
    " .set_properties(**{'background-color': '#ECE3FF','color': 'black'})\n",
    ")\n",
    "tmp_pivot_style"
   ]
  },
  {
   "cell_type": "code",
   "execution_count": 80,
   "id": "948c2f44",
   "metadata": {},
   "outputs": [
    {
     "data": {
      "text/html": [
       "<style type=\"text/css\">\n",
       "#T_6faeb th.col_header {\n",
       "  background-color: red;\n",
       "  color: white;\n",
       "}\n",
       "#T_6faeb_row0_col0, #T_6faeb_row0_col1, #T_6faeb_row0_col2, #T_6faeb_row0_col3, #T_6faeb_row1_col0, #T_6faeb_row1_col1, #T_6faeb_row1_col2, #T_6faeb_row1_col3, #T_6faeb_row2_col0, #T_6faeb_row2_col1, #T_6faeb_row2_col2, #T_6faeb_row2_col3, #T_6faeb_row3_col0, #T_6faeb_row3_col1, #T_6faeb_row3_col2, #T_6faeb_row3_col3, #T_6faeb_row4_col0, #T_6faeb_row4_col1, #T_6faeb_row4_col2, #T_6faeb_row4_col3 {\n",
       "  background-color: yellow;\n",
       "  color: blue;\n",
       "}\n",
       "</style>\n",
       "<table id=\"T_6faeb\">\n",
       "  <thead>\n",
       "    <tr>\n",
       "      <th class=\"blank level0\" >&nbsp;</th>\n",
       "      <th id=\"T_6faeb_level0_col0\" class=\"col_heading level0 col0\" >A</th>\n",
       "      <th id=\"T_6faeb_level0_col1\" class=\"col_heading level0 col1\" >B</th>\n",
       "      <th id=\"T_6faeb_level0_col2\" class=\"col_heading level0 col2\" >C</th>\n",
       "      <th id=\"T_6faeb_level0_col3\" class=\"col_heading level0 col3\" >D</th>\n",
       "    </tr>\n",
       "  </thead>\n",
       "  <tbody>\n",
       "    <tr>\n",
       "      <th id=\"T_6faeb_level0_row0\" class=\"row_heading level0 row0\" >0</th>\n",
       "      <td id=\"T_6faeb_row0_col0\" class=\"data row0 col0\" >0</td>\n",
       "      <td id=\"T_6faeb_row0_col1\" class=\"data row0 col1\" >12.240000</td>\n",
       "      <td id=\"T_6faeb_row0_col2\" class=\"data row0 col2\" >0.500000</td>\n",
       "      <td id=\"T_6faeb_row0_col3\" class=\"data row0 col3\" >2000.000000</td>\n",
       "    </tr>\n",
       "    <tr>\n",
       "      <th id=\"T_6faeb_level0_row1\" class=\"row_heading level0 row1\" >1</th>\n",
       "      <td id=\"T_6faeb_row1_col0\" class=\"data row1 col0\" >-5</td>\n",
       "      <td id=\"T_6faeb_row1_col1\" class=\"data row1 col1\" >3.140000</td>\n",
       "      <td id=\"T_6faeb_row1_col2\" class=\"data row1 col2\" >1.200000</td>\n",
       "      <td id=\"T_6faeb_row1_col3\" class=\"data row1 col3\" >nan</td>\n",
       "    </tr>\n",
       "    <tr>\n",
       "      <th id=\"T_6faeb_level0_row2\" class=\"row_heading level0 row2\" >2</th>\n",
       "      <td id=\"T_6faeb_row2_col0\" class=\"data row2 col0\" >12</td>\n",
       "      <td id=\"T_6faeb_row2_col1\" class=\"data row2 col1\" >2.710000</td>\n",
       "      <td id=\"T_6faeb_row2_col2\" class=\"data row2 col2\" >0.300000</td>\n",
       "      <td id=\"T_6faeb_row2_col3\" class=\"data row2 col3\" >1000.000000</td>\n",
       "    </tr>\n",
       "    <tr>\n",
       "      <th id=\"T_6faeb_level0_row3\" class=\"row_heading level0 row3\" >3</th>\n",
       "      <td id=\"T_6faeb_row3_col0\" class=\"data row3 col0\" >-4</td>\n",
       "      <td id=\"T_6faeb_row3_col1\" class=\"data row3 col1\" >-3.140000</td>\n",
       "      <td id=\"T_6faeb_row3_col2\" class=\"data row3 col2\" >1.900000</td>\n",
       "      <td id=\"T_6faeb_row3_col3\" class=\"data row3 col3\" >7000.000000</td>\n",
       "    </tr>\n",
       "    <tr>\n",
       "      <th id=\"T_6faeb_level0_row4\" class=\"row_heading level0 row4\" >4</th>\n",
       "      <td id=\"T_6faeb_row4_col0\" class=\"data row4 col0\" >3</td>\n",
       "      <td id=\"T_6faeb_row4_col1\" class=\"data row4 col1\" >nan</td>\n",
       "      <td id=\"T_6faeb_row4_col2\" class=\"data row4 col2\" >2.200000</td>\n",
       "      <td id=\"T_6faeb_row4_col3\" class=\"data row4 col3\" >5000.000000</td>\n",
       "    </tr>\n",
       "  </tbody>\n",
       "</table>\n"
      ],
      "text/plain": [
       "<pandas.io.formats.style.Styler at 0x1e0aea2fbd0>"
      ]
     },
     "execution_count": 80,
     "metadata": {},
     "output_type": "execute_result"
    }
   ],
   "source": [
    "colum_header = {\n",
    "    'selector':'th.col_header',\n",
    "    'props':[('background-color','red'),('color','white')]\n",
    "}\n",
    "\n",
    "style_data_frame = (\n",
    " df.style.set_table_styles([colum_header]).set_properties(**{'background-color':'yellow','color':'blue'})\n",
    ")\n",
    "style_data_frame"
   ]
  },
  {
   "cell_type": "code",
   "execution_count": 81,
   "id": "e61ff332",
   "metadata": {},
   "outputs": [
    {
     "name": "stdout",
     "output_type": "stream",
     "text": [
      "Requirement already satisfied: ipywidgets in c:\\users\\abula\\anaconda3\\lib\\site-packages (8.0.4)\n",
      "Requirement already satisfied: ipykernel>=4.5.1 in c:\\users\\abula\\anaconda3\\lib\\site-packages (from ipywidgets) (6.25.0)\n",
      "Requirement already satisfied: ipython>=6.1.0 in c:\\users\\abula\\anaconda3\\lib\\site-packages (from ipywidgets) (8.15.0)\n",
      "Requirement already satisfied: traitlets>=4.3.1 in c:\\users\\abula\\anaconda3\\lib\\site-packages (from ipywidgets) (5.7.1)\n",
      "Requirement already satisfied: widgetsnbextension~=4.0 in c:\\users\\abula\\anaconda3\\lib\\site-packages (from ipywidgets) (4.0.5)\n",
      "Requirement already satisfied: jupyterlab-widgets~=3.0 in c:\\users\\abula\\anaconda3\\lib\\site-packages (from ipywidgets) (3.0.5)\n",
      "Requirement already satisfied: comm>=0.1.1 in c:\\users\\abula\\anaconda3\\lib\\site-packages (from ipykernel>=4.5.1->ipywidgets) (0.1.2)\n",
      "Requirement already satisfied: debugpy>=1.6.5 in c:\\users\\abula\\anaconda3\\lib\\site-packages (from ipykernel>=4.5.1->ipywidgets) (1.6.7)\n",
      "Requirement already satisfied: jupyter-client>=6.1.12 in c:\\users\\abula\\anaconda3\\lib\\site-packages (from ipykernel>=4.5.1->ipywidgets) (7.4.9)\n",
      "Requirement already satisfied: jupyter-core!=5.0.*,>=4.12 in c:\\users\\abula\\anaconda3\\lib\\site-packages (from ipykernel>=4.5.1->ipywidgets) (5.3.0)\n",
      "Requirement already satisfied: matplotlib-inline>=0.1 in c:\\users\\abula\\anaconda3\\lib\\site-packages (from ipykernel>=4.5.1->ipywidgets) (0.1.6)\n",
      "Requirement already satisfied: nest-asyncio in c:\\users\\abula\\anaconda3\\lib\\site-packages (from ipykernel>=4.5.1->ipywidgets) (1.5.6)\n",
      "Requirement already satisfied: packaging in c:\\users\\abula\\anaconda3\\lib\\site-packages (from ipykernel>=4.5.1->ipywidgets) (23.1)\n",
      "Requirement already satisfied: psutil in c:\\users\\abula\\anaconda3\\lib\\site-packages (from ipykernel>=4.5.1->ipywidgets) (5.9.0)\n",
      "Requirement already satisfied: pyzmq>=20 in c:\\users\\abula\\anaconda3\\lib\\site-packages (from ipykernel>=4.5.1->ipywidgets) (23.2.0)\n",
      "Requirement already satisfied: tornado>=6.1 in c:\\users\\abula\\anaconda3\\lib\\site-packages (from ipykernel>=4.5.1->ipywidgets) (6.3.2)\n",
      "Requirement already satisfied: backcall in c:\\users\\abula\\anaconda3\\lib\\site-packages (from ipython>=6.1.0->ipywidgets) (0.2.0)\n",
      "Requirement already satisfied: decorator in c:\\users\\abula\\anaconda3\\lib\\site-packages (from ipython>=6.1.0->ipywidgets) (5.1.1)\n",
      "Requirement already satisfied: jedi>=0.16 in c:\\users\\abula\\anaconda3\\lib\\site-packages (from ipython>=6.1.0->ipywidgets) (0.18.1)\n",
      "Requirement already satisfied: pickleshare in c:\\users\\abula\\anaconda3\\lib\\site-packages (from ipython>=6.1.0->ipywidgets) (0.7.5)\n",
      "Requirement already satisfied: prompt-toolkit!=3.0.37,<3.1.0,>=3.0.30 in c:\\users\\abula\\anaconda3\\lib\\site-packages (from ipython>=6.1.0->ipywidgets) (3.0.36)\n",
      "Requirement already satisfied: pygments>=2.4.0 in c:\\users\\abula\\anaconda3\\lib\\site-packages (from ipython>=6.1.0->ipywidgets) (2.15.1)\n",
      "Requirement already satisfied: stack-data in c:\\users\\abula\\anaconda3\\lib\\site-packages (from ipython>=6.1.0->ipywidgets) (0.2.0)\n",
      "Requirement already satisfied: colorama in c:\\users\\abula\\anaconda3\\lib\\site-packages (from ipython>=6.1.0->ipywidgets) (0.4.6)\n",
      "Requirement already satisfied: parso<0.9.0,>=0.8.0 in c:\\users\\abula\\anaconda3\\lib\\site-packages (from jedi>=0.16->ipython>=6.1.0->ipywidgets) (0.8.3)\n",
      "Requirement already satisfied: entrypoints in c:\\users\\abula\\anaconda3\\lib\\site-packages (from jupyter-client>=6.1.12->ipykernel>=4.5.1->ipywidgets) (0.4)\n",
      "Requirement already satisfied: python-dateutil>=2.8.2 in c:\\users\\abula\\anaconda3\\lib\\site-packages (from jupyter-client>=6.1.12->ipykernel>=4.5.1->ipywidgets) (2.8.2)\n",
      "Requirement already satisfied: platformdirs>=2.5 in c:\\users\\abula\\anaconda3\\lib\\site-packages (from jupyter-core!=5.0.*,>=4.12->ipykernel>=4.5.1->ipywidgets) (3.10.0)\n",
      "Requirement already satisfied: pywin32>=300 in c:\\users\\abula\\anaconda3\\lib\\site-packages (from jupyter-core!=5.0.*,>=4.12->ipykernel>=4.5.1->ipywidgets) (305.1)\n",
      "Requirement already satisfied: wcwidth in c:\\users\\abula\\anaconda3\\lib\\site-packages (from prompt-toolkit!=3.0.37,<3.1.0,>=3.0.30->ipython>=6.1.0->ipywidgets) (0.2.5)\n",
      "Requirement already satisfied: executing in c:\\users\\abula\\anaconda3\\lib\\site-packages (from stack-data->ipython>=6.1.0->ipywidgets) (0.8.3)\n",
      "Requirement already satisfied: asttokens in c:\\users\\abula\\anaconda3\\lib\\site-packages (from stack-data->ipython>=6.1.0->ipywidgets) (2.0.5)\n",
      "Requirement already satisfied: pure-eval in c:\\users\\abula\\anaconda3\\lib\\site-packages (from stack-data->ipython>=6.1.0->ipywidgets) (0.2.2)\n",
      "Requirement already satisfied: six>=1.5 in c:\\users\\abula\\anaconda3\\lib\\site-packages (from python-dateutil>=2.8.2->jupyter-client>=6.1.12->ipykernel>=4.5.1->ipywidgets) (1.16.0)\n"
     ]
    }
   ],
   "source": [
    "!pip install ipywidgets\n"
   ]
  },
  {
   "cell_type": "code",
   "execution_count": 82,
   "id": "6f347892",
   "metadata": {},
   "outputs": [
    {
     "data": {
      "application/vnd.jupyter.widget-view+json": {
       "model_id": "ba439f9f50b04143a8374998ee947089",
       "version_major": 2,
       "version_minor": 0
      },
      "text/plain": [
       "interactive(children=(Dropdown(description='Category:', options=('A', 'B'), value='A'), Output()), _dom_classe…"
      ]
     },
     "metadata": {},
     "output_type": "display_data"
    },
    {
     "data": {
      "text/plain": [
       "<function __main__.update_pivot(category)>"
      ]
     },
     "execution_count": 82,
     "metadata": {},
     "output_type": "execute_result"
    }
   ],
   "source": [
    "import pandas as pd\n",
    "import ipywidgets as widgets\n",
    "from IPython.display import display\n",
    "\n",
    "# Sample DataFrame\n",
    "data = pd.DataFrame({\n",
    "    'Day': ['Mon', 'Tue', 'Wed', 'Thu', 'Fri'] * 2,\n",
    "    'Category': ['A', 'B'] * 5,\n",
    "    'Values': [10, 15, 20, 25, 30, 5, 10, 15, 20, 25]\n",
    "})\n",
    "\n",
    "# Create pivot table\n",
    "pivot_table = pd.pivot_table(data, index='Day', columns='Category', values='Values')\n",
    "\n",
    "# Create a dropdown\n",
    "dropdown = widgets.Dropdown(\n",
    "    options=pivot_table.columns,\n",
    "    description='Category:',\n",
    ")\n",
    "\n",
    "# Function to update pivot table display based on dropdown selection\n",
    "def update_pivot(category):\n",
    "    display(pivot_table[[category]])\n",
    "\n",
    "# Observe changes in the dropdown selection\n",
    "widgets.interact(update_pivot, category=dropdown)\n"
   ]
  },
  {
   "cell_type": "code",
   "execution_count": null,
   "id": "88d1b8f9",
   "metadata": {},
   "outputs": [],
   "source": []
  }
 ],
 "metadata": {
  "kernelspec": {
   "display_name": "Python 3 (ipykernel)",
   "language": "python",
   "name": "python3"
  },
  "language_info": {
   "codemirror_mode": {
    "name": "ipython",
    "version": 3
   },
   "file_extension": ".py",
   "mimetype": "text/x-python",
   "name": "python",
   "nbconvert_exporter": "python",
   "pygments_lexer": "ipython3",
   "version": "3.11.5"
  }
 },
 "nbformat": 4,
 "nbformat_minor": 5
}
